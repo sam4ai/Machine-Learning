{
 "cells": [
  {
   "cell_type": "markdown",
   "id": "484df05b",
   "metadata": {},
   "source": []
  },
  {
   "cell_type": "markdown",
   "id": "5b1ba86f",
   "metadata": {},
   "source": [
    "# Introduction to Python, numpy, and pandas"
   ]
  },
  {
   "cell_type": "markdown",
   "id": "36f2fe03",
   "metadata": {},
   "source": [
    "Functions, Lambdas, and Map/Reduce\n",
    "\n",
    "more about functions"
   ]
  },
  {
   "cell_type": "code",
   "execution_count": null,
   "id": "ac302c53",
   "metadata": {},
   "outputs": [],
   "source": [
    "def capitalize(str): \n",
    "    t = str.strip()\n",
    "    return t[0].upper() + t[1:].lower()"
   ]
  },
  {
   "cell_type": "code",
   "execution_count": null,
   "id": "677f38fb",
   "metadata": {},
   "outputs": [],
   "source": [
    "a = capitalize('abcDEF')\n",
    "print(f'{a}')"
   ]
  },
  {
   "cell_type": "markdown",
   "id": "7541202b",
   "metadata": {},
   "source": [
    "#### Quiz !\n",
    "print the result as \"ABcdef\" ( capitalize the first two chars)\n",
    "with the double quotes"
   ]
  },
  {
   "cell_type": "code",
   "execution_count": null,
   "id": "323fdaac",
   "metadata": {},
   "outputs": [],
   "source": [
    "# your code here"
   ]
  },
  {
   "cell_type": "markdown",
   "id": "21d91933",
   "metadata": {},
   "source": [
    "# Map\n",
    "let us apply the above function on list"
   ]
  },
  {
   "cell_type": "code",
   "execution_count": null,
   "id": "1d8acd0e",
   "metadata": {},
   "outputs": [],
   "source": [
    "a= ['abc   ', '   def', '  klm ', '  no p  ']\n",
    "for s in a:\n",
    "    b = capitalize(s)\n",
    "    print(f'\"{b}\"')"
   ]
  },
  {
   "cell_type": "markdown",
   "id": "eb1fccf7",
   "metadata": {},
   "source": [
    "The `map()` function applies a given function to each item of `(list, tuple etc.)` and returns an iterator of the same size. The item is sent to the function as a parameter. "
   ]
  },
  {
   "cell_type": "code",
   "execution_count": null,
   "id": "088041dd",
   "metadata": {},
   "outputs": [],
   "source": [
    "list(map(capitalize, a))"
   ]
  },
  {
   "cell_type": "markdown",
   "id": "135cfbab",
   "metadata": {},
   "source": [
    "anonymous un-named function Lambda\n",
    "An anonymous function contain a single expression which must return a value."
   ]
  },
  {
   "cell_type": "code",
   "execution_count": null,
   "id": "bf11e00a",
   "metadata": {},
   "outputs": [],
   "source": [
    "def triple1(x):\n",
    "    return x * 3\n",
    "\n",
    "print(triple1(10))"
   ]
  },
  {
   "cell_type": "code",
   "execution_count": null,
   "id": "076d1414",
   "metadata": {},
   "outputs": [],
   "source": [
    "triple2 = lambda x : x * 3\n",
    "print(triple2(10))"
   ]
  },
  {
   "cell_type": "markdown",
   "id": "39349d10",
   "metadata": {},
   "source": [
    "# Reduce\n",
    "The `reduce()` function cumulatively applies the function to items of an iterator, the result is a single value.\n",
    "let us caculate the sum of list\n",
    "first we should import `reduce` function from the `functools` "
   ]
  },
  {
   "cell_type": "code",
   "execution_count": null,
   "id": "9de70a1a",
   "metadata": {},
   "outputs": [],
   "source": [
    "from functools import reduce\n",
    "\n",
    "a = list(range(1,11))\n",
    "def sum(first, second):\n",
    "    return first + second\n",
    "\n",
    "total = reduce(sum, a)\n",
    "total # in ipython this will be printed "
   ]
  },
  {
   "cell_type": "code",
   "execution_count": null,
   "id": "08bf494a",
   "metadata": {},
   "outputs": [],
   "source": [
    "total1 = reduce(lambda x,y: x+y, a) \n",
    "print(total1)"
   ]
  },
  {
   "cell_type": "markdown",
   "id": "30b6eec4",
   "metadata": {},
   "source": [
    "# Numpy - Numerical Python\n",
    "NumPy (Numerical Python) is an open source Python library that’s used in almost every field of science and engineering.  \n",
    "The NumPy library contains multidimensional array and matrix data structures. It provides ndarray, a homogeneous n-dimensional array object  \n",
    "In order to install numpy \n",
    "`pip install numpy`\n",
    "for anaconda environment\n",
    "`conda install numpy`\n",
    "\n",
    "numpy provides vector, matrix and higher-dimensional data structures for Python"
   ]
  },
  {
   "cell_type": "markdown",
   "id": "c0e83d17",
   "metadata": {},
   "source": [
    "## Creating numpy arrays\n",
    "and some useful functions"
   ]
  },
  {
   "cell_type": "code",
   "execution_count": null,
   "id": "123344f6",
   "metadata": {},
   "outputs": [],
   "source": [
    "import numpy as np\n",
    "a = list(range(1,11))\n",
    "b = np.array(a)\n",
    "print( b )\n",
    "print(type(b))\n",
    "print(f\"dtype: {b.dtype}\")\n",
    "print(f\"shape: {b.shape}\")\n",
    "print(f\"dimensions: {b.ndim}\")\n",
    "print(f\"size: {b.size}\")"
   ]
  },
  {
   "cell_type": "markdown",
   "id": "e857f240",
   "metadata": {},
   "source": [
    "another way to create np array"
   ]
  },
  {
   "cell_type": "code",
   "execution_count": null,
   "id": "231aff3c",
   "metadata": {},
   "outputs": [],
   "source": [
    "c = [a, a, a, a]\n",
    "print( c )\n",
    "print(type(c))\n",
    "\n",
    "d = np.array(c)\n",
    "print( d )\n",
    "print(type(d))\n",
    "print(d.shape)"
   ]
  },
  {
   "cell_type": "markdown",
   "id": "fb9ad5cc",
   "metadata": {},
   "source": [
    "#### deleting variables"
   ]
  },
  {
   "cell_type": "code",
   "execution_count": null,
   "id": "d16ba20c",
   "metadata": {},
   "outputs": [],
   "source": [
    "del a, b, c, d"
   ]
  },
  {
   "cell_type": "markdown",
   "id": "f1daca59",
   "metadata": {},
   "source": [
    "using numpy arange"
   ]
  },
  {
   "cell_type": "code",
   "execution_count": null,
   "id": "111feb5a",
   "metadata": {},
   "outputs": [],
   "source": [
    "a = np.arange(1,11)\n",
    "a"
   ]
  },
  {
   "cell_type": "markdown",
   "id": "8478eff8",
   "metadata": {},
   "source": [
    "zero vector and matrix"
   ]
  },
  {
   "cell_type": "code",
   "execution_count": null,
   "id": "081ea042",
   "metadata": {},
   "outputs": [],
   "source": [
    "b = np. zeros(3)\n",
    "b"
   ]
  },
  {
   "cell_type": "code",
   "execution_count": null,
   "id": "30123185",
   "metadata": {},
   "outputs": [],
   "source": [
    "c = np.zeros([3, 5])\n",
    "c"
   ]
  },
  {
   "cell_type": "markdown",
   "id": "178a0f1c",
   "metadata": {},
   "source": [
    " The ones() function is used to get a new array of given shape and type, filled with ones."
   ]
  },
  {
   "cell_type": "code",
   "execution_count": null,
   "id": "718a2484",
   "metadata": {},
   "outputs": [],
   "source": [
    "np.ones((6,6))"
   ]
  },
  {
   "cell_type": "markdown",
   "id": "0ac4793b",
   "metadata": {},
   "source": [
    "array of given shape and type, without initializing entries."
   ]
  },
  {
   "cell_type": "code",
   "execution_count": null,
   "id": "b76ad918",
   "metadata": {},
   "outputs": [],
   "source": [
    "np.empty((3,3))"
   ]
  },
  {
   "cell_type": "markdown",
   "id": "ed5735e4",
   "metadata": {},
   "source": [
    "Create an array of the given shape and populate it with random samples from a uniform distribution over [0, 1)."
   ]
  },
  {
   "cell_type": "code",
   "execution_count": null,
   "id": "bd67779d",
   "metadata": {},
   "outputs": [],
   "source": [
    "np.random.rand(4)"
   ]
  },
  {
   "cell_type": "markdown",
   "id": "1f64f11f",
   "metadata": {},
   "source": [
    "Create an array of the given shape and populate it withrandom floats sampled from a univariate “normal” (Gaussian) distribution of mean 0 and variance 1"
   ]
  },
  {
   "cell_type": "code",
   "execution_count": null,
   "id": "1cd0fd22",
   "metadata": {},
   "outputs": [],
   "source": [
    "np.random.randn(4)"
   ]
  },
  {
   "cell_type": "markdown",
   "id": "68ef587e",
   "metadata": {},
   "source": [
    "Randomly permute a sequence, or return a permuted range."
   ]
  },
  {
   "cell_type": "code",
   "execution_count": null,
   "id": "25b932ca",
   "metadata": {},
   "outputs": [],
   "source": [
    "np.random.permutation(range(1,10,1))"
   ]
  },
  {
   "cell_type": "markdown",
   "id": "38fe12a8",
   "metadata": {},
   "source": [
    "ploting using matplotlib "
   ]
  },
  {
   "cell_type": "code",
   "execution_count": null,
   "id": "2f8816eb",
   "metadata": {},
   "outputs": [],
   "source": [
    "from matplotlib import pyplot as plt \n",
    "x= np.arange(1,1001)\n",
    "y = np.random.rand(1000)\n",
    "plt.title(\"Ploting random numbers\") \n",
    "plt.xlabel(\"count\") \n",
    "plt.ylabel(\"value\") \n",
    "plt.plot(x, y,\".g\")"
   ]
  },
  {
   "cell_type": "markdown",
   "id": "516b62aa",
   "metadata": {},
   "source": [
    "create an array that evenly spaced numbers over a specified interval."
   ]
  },
  {
   "cell_type": "code",
   "execution_count": null,
   "id": "0e7dd73a",
   "metadata": {},
   "outputs": [],
   "source": [
    "a = np.linspace(0, 10, 20)\n",
    "a"
   ]
  },
  {
   "cell_type": "markdown",
   "id": "5d563344",
   "metadata": {},
   "source": [
    "### loading and saving variables \n",
    "\n",
    "Save an array to a binary file in NumPy .npy format.\n",
    "\n",
    "*np.save('filename', a)  \n",
    "variable = np.load('filename.npy')*\n"
   ]
  },
  {
   "cell_type": "code",
   "execution_count": null,
   "id": "8d77c93e",
   "metadata": {},
   "outputs": [],
   "source": [
    "np.save(\"our file.npy\", a)"
   ]
  },
  {
   "cell_type": "markdown",
   "id": "dc2efb43",
   "metadata": {},
   "source": [
    "reset the environment"
   ]
  },
  {
   "cell_type": "code",
   "execution_count": null,
   "id": "b8784f1e",
   "metadata": {},
   "outputs": [],
   "source": [
    "reset"
   ]
  },
  {
   "cell_type": "code",
   "execution_count": null,
   "id": "f992499a",
   "metadata": {},
   "outputs": [],
   "source": [
    "import numpy as np"
   ]
  },
  {
   "cell_type": "code",
   "execution_count": null,
   "id": "ee2975d3",
   "metadata": {},
   "outputs": [],
   "source": [
    "b = np.load(\"our file.npy\")"
   ]
  },
  {
   "cell_type": "code",
   "execution_count": null,
   "id": "7946f0a3",
   "metadata": {},
   "outputs": [],
   "source": [
    "b"
   ]
  },
  {
   "cell_type": "markdown",
   "id": "f239f3ae",
   "metadata": {},
   "source": [
    "deleting varable"
   ]
  },
  {
   "cell_type": "code",
   "execution_count": null,
   "id": "dc1a9e22",
   "metadata": {},
   "outputs": [],
   "source": [
    "del b"
   ]
  },
  {
   "cell_type": "markdown",
   "id": "0a1392ff",
   "metadata": {},
   "source": [
    "changing the shape of an array without changing its data."
   ]
  },
  {
   "cell_type": "code",
   "execution_count": null,
   "id": "4a5d722b",
   "metadata": {},
   "outputs": [],
   "source": [
    "b = np.arange(1,17)\n",
    "b"
   ]
  },
  {
   "cell_type": "code",
   "execution_count": null,
   "id": "63046c0b",
   "metadata": {},
   "outputs": [],
   "source": [
    "b = b.reshape(4,4)\n",
    "b"
   ]
  },
  {
   "cell_type": "markdown",
   "id": "cd32b98a",
   "metadata": {},
   "source": [
    "\n",
    "## Indexing and Slicing\n",
    "\n",
    "We can access individual elements of arrays as well as \"slices\" using square brackets and `:`. "
   ]
  },
  {
   "cell_type": "code",
   "execution_count": null,
   "id": "b37d6de9",
   "metadata": {},
   "outputs": [],
   "source": [
    "b[1:4, 2:]"
   ]
  },
  {
   "cell_type": "code",
   "execution_count": null,
   "id": "6c87bfbb",
   "metadata": {},
   "outputs": [],
   "source": [
    "b[::2,::2]"
   ]
  },
  {
   "cell_type": "markdown",
   "id": "9bd19af9",
   "metadata": {},
   "source": [
    "Basic array operations using an example"
   ]
  },
  {
   "cell_type": "code",
   "execution_count": null,
   "id": "19f919eb",
   "metadata": {},
   "outputs": [],
   "source": [
    "d = b\n",
    "f =d + np.random.rand(4,4) * 1\n",
    "print(f.size)"
   ]
  },
  {
   "cell_type": "markdown",
   "id": "4e26b216",
   "metadata": {},
   "source": [
    "let us calculate the root mean square error  \n",
    "\n",
    "\\begin{equation}\n",
    " RMSE = \\sqrt{(\\frac{1}{n})\\sum_{i=1}^{n}(d_{i} - e_{i})^{2}}\n",
    "\\end{equation}"
   ]
  },
  {
   "cell_type": "code",
   "execution_count": null,
   "id": "afa7763e",
   "metadata": {},
   "outputs": [],
   "source": [
    "rmse = np.sqrt(np.sum(np.square(d-f))/ d.size)\n",
    "print(rmse)"
   ]
  },
  {
   "cell_type": "markdown",
   "id": "3fdad38b",
   "metadata": {},
   "source": [
    "# Pandas\n"
   ]
  },
  {
   "cell_type": "markdown",
   "id": "01e598f3",
   "metadata": {},
   "source": [
    "NumPy is that it is difficult to work with data that is heterogenous (that is, of mixed data types). \n",
    "The two primary data structures are the Series (one-dimensional arrays\n",
    "It is based on the [dataframe](http://pandas.pydata.org/pandas-docs/stable/generated/pandas.DataFrame.html) concept found in the [R programming language](https://www.r-project.org/about.html).\n",
    "\n",
    " [Cheatsheet](https://pandas.pydata.org/Pandas_Cheat_Sheet.pdf) is avialable"
   ]
  },
  {
   "cell_type": "markdown",
   "id": "4e1bf392",
   "metadata": {},
   "source": [
    "### Series\n",
    "\n",
    "Series are one-dimensional arrays in elements have indexes (essentially labels). They can be created in  a number of ways, including from a Python dictionary. If no indexes are provided when defined, then integer indexes 0, 1, 2, ..., are used. Series can also be given names. "
   ]
  },
  {
   "cell_type": "code",
   "execution_count": null,
   "id": "ff346727",
   "metadata": {},
   "outputs": [],
   "source": [
    "import numpy as np\n",
    "\n",
    "import pandas as pd"
   ]
  },
  {
   "cell_type": "code",
   "execution_count": null,
   "id": "67aec7ba",
   "metadata": {},
   "outputs": [],
   "source": [
    "s = pd.Series(['a', 'b', 'c', 'd', 'e'])\n",
    "print(s)\n",
    "print('-'*40)\n",
    "print(s[1])"
   ]
  },
  {
   "cell_type": "code",
   "execution_count": null,
   "id": "1b6f3073",
   "metadata": {},
   "outputs": [],
   "source": [
    " pd.Series(1, index=list(range(6)), dtype=\"float32\")"
   ]
  },
  {
   "cell_type": "code",
   "execution_count": null,
   "id": "fcf3b08e",
   "metadata": {},
   "outputs": [],
   "source": [
    "s1 = pd.Series({'first': 'Ali' , 'second': 'Ahmed', 'thrid':'noor' })\n",
    "print(s1)\n",
    "print(s1['second'])"
   ]
  },
  {
   "cell_type": "markdown",
   "id": "e9887a89",
   "metadata": {},
   "source": [
    "## DataFrames\n",
    "\n",
    "DataFrame objects can be viewed as two-dimensional arrays--rows and columns in which the columns may be of different data types. You can create a DataFrame in one of several ways. One way is simply to pass a tabular structure of data (a nested list, or a NumPy ndarray). "
   ]
  },
  {
   "cell_type": "markdown",
   "id": "5e0ed50d",
   "metadata": {},
   "source": [
    "Object creation"
   ]
  },
  {
   "cell_type": "code",
   "execution_count": null,
   "id": "46b3fd8e",
   "metadata": {},
   "outputs": [],
   "source": [
    "b = np.arange(1,17)\n",
    "b = b.reshape(4,4)\n",
    "df = pd.DataFrame(b)\n",
    "df"
   ]
  },
  {
   "cell_type": "markdown",
   "id": "1460dc2d",
   "metadata": {},
   "source": [
    "You can specify labels for the indexes and columns."
   ]
  },
  {
   "cell_type": "code",
   "execution_count": null,
   "id": "f75805f1",
   "metadata": {},
   "outputs": [],
   "source": [
    "b = np.arange(1,17)\n",
    "b = b.reshape(4,4)\n",
    "ix= list('ABCD')\n",
    "df = pd.DataFrame(b, index=ix, columns=['first', 'second', 'thrid', 'fourth'])\n",
    "print(df)"
   ]
  },
  {
   "cell_type": "code",
   "execution_count": null,
   "id": "e866188d",
   "metadata": {},
   "outputs": [],
   "source": [
    "print(df['first'])\n",
    "print(df.query(\"second>5\"))"
   ]
  },
  {
   "cell_type": "markdown",
   "id": "74873b56",
   "metadata": {},
   "source": [
    "Creating a DataFrame by passing a dictionary of objects:"
   ]
  },
  {
   "cell_type": "code",
   "execution_count": null,
   "id": "d6e897f0",
   "metadata": {},
   "outputs": [],
   "source": [
    "df = pd.DataFrame({'key':['A','B','C','A','B','C','A','B','C'],\n",
    "                   'data': [0, 5, 10, 5, 10, 15, 10, 15, 20]})\n",
    "df"
   ]
  },
  {
   "cell_type": "markdown",
   "id": "50d943c9",
   "metadata": {},
   "source": [
    "describe() shows a quick statistic summary of your data:"
   ]
  },
  {
   "cell_type": "code",
   "execution_count": null,
   "id": "e45d0ba1",
   "metadata": {},
   "outputs": [],
   "source": [
    "df.describe()"
   ]
  },
  {
   "cell_type": "markdown",
   "id": "9c4882cd",
   "metadata": {},
   "source": [
    "useful functions"
   ]
  },
  {
   "cell_type": "code",
   "execution_count": null,
   "id": "5b22b64a",
   "metadata": {},
   "outputs": [],
   "source": [
    "print('mean', df.mean(),\n",
    "        'var', df.var(),\n",
    "        'sdev', df.std(),\n",
    "        'median', df.median(),\n",
    "        'index',df.index )"
   ]
  },
  {
   "cell_type": "code",
   "execution_count": null,
   "id": "ecff393a",
   "metadata": {},
   "outputs": [],
   "source": [
    "print('mean', df['data'].mean(),\n",
    "        'var', df['data'].var(),\n",
    "        'sdev', df['data'].std(),\n",
    "        'median', df['data'].median())"
   ]
  },
  {
   "cell_type": "markdown",
   "id": "fe4e2ef8",
   "metadata": {},
   "source": [
    "## Accessing, and manipulating columns\n",
    "Generating new dataframe"
   ]
  },
  {
   "cell_type": "code",
   "execution_count": null,
   "id": "89095a1d",
   "metadata": {},
   "outputs": [],
   "source": [
    "s=[]\n",
    "s.append(('mean',df['data'].mean()))\n",
    "s.append(('var', df['data'].var()))\n",
    "s.append(('sdev', df['data'].std()))\n",
    "df2 = pd.DataFrame(s)\n",
    "df2"
   ]
  },
  {
   "cell_type": "code",
   "execution_count": null,
   "id": "90b2e61b",
   "metadata": {},
   "outputs": [],
   "source": [
    "select= np.random.rand(len(df)) >.7\n",
    "print(select)\n",
    "df[select]"
   ]
  },
  {
   "cell_type": "code",
   "execution_count": null,
   "id": "16683ffb",
   "metadata": {},
   "outputs": [],
   "source": [
    "df.values"
   ]
  },
  {
   "cell_type": "code",
   "execution_count": null,
   "id": "802fa357",
   "metadata": {},
   "outputs": [],
   "source": [
    "df['data'].values"
   ]
  },
  {
   "cell_type": "code",
   "execution_count": null,
   "id": "049e9573",
   "metadata": {},
   "outputs": [],
   "source": [
    "df.T"
   ]
  },
  {
   "cell_type": "markdown",
   "id": "5755e371",
   "metadata": {},
   "source": [
    "## File input and output"
   ]
  },
  {
   "cell_type": "code",
   "execution_count": null,
   "id": "28379591",
   "metadata": {},
   "outputs": [],
   "source": [
    "import os\n",
    "import pandas as pd\n",
    "import numpy as np\n",
    "\n",
    "path = \".\"\n",
    "read_filename = os.path.join(path, \"data/x_test.csv\")\n",
    "df = pd.read_csv(read_filename)\n",
    "\n",
    "write_filename = os.path.join(path, \"data/testwrite.csv\")\n",
    "df = df.reindex(np.random.permutation(df.index))\n",
    "df.to_csv(write_filename, index=False) # Specify index = false to not write row numbers"
   ]
  },
  {
   "cell_type": "markdown",
   "id": "3efa8267",
   "metadata": {},
   "source": [
    "CSV files are text and can be used by a variety of software programs.  However, they do take longer to generate and can sometimes lose small amounts of precision in the conversion.  Another format is [Pickle](https://docs.python.org/3/library/pickle.html).  Generally you will output to CSV because it is very compatible, even outside of Python.  The code below stores the Dataframe to Pickle."
   ]
  },
  {
   "cell_type": "code",
   "execution_count": null,
   "id": "9c41b873",
   "metadata": {},
   "outputs": [],
   "source": [
    "import pickle\n",
    "with open('./data/dataframe.pkl',\"wb\") as fp:\n",
    "    pickle.dump(df, fp)"
   ]
  },
  {
   "cell_type": "code",
   "execution_count": null,
   "id": "7992b2a2",
   "metadata": {},
   "outputs": [],
   "source": [
    "with open('./data/dataframe.pkl',\"rb\") as fp:\n",
    "    df2 = pickle.load(fp)\n",
    "df2.head()"
   ]
  },
  {
   "cell_type": "markdown",
   "id": "9cca4cb2",
   "metadata": {},
   "source": [
    "indexing"
   ]
  },
  {
   "cell_type": "code",
   "execution_count": null,
   "id": "fe09f20f",
   "metadata": {},
   "outputs": [],
   "source": [
    "x = pd.read_csv('./data/x_test.csv')\n",
    "x.head()"
   ]
  },
  {
   "cell_type": "code",
   "execution_count": null,
   "id": "4141b009",
   "metadata": {},
   "outputs": [],
   "source": [
    "x.tail(6)"
   ]
  },
  {
   "cell_type": "code",
   "execution_count": null,
   "id": "649fd993",
   "metadata": {},
   "outputs": [],
   "source": [
    "x.describe()"
   ]
  },
  {
   "cell_type": "code",
   "execution_count": null,
   "id": "53886e79",
   "metadata": {},
   "outputs": [],
   "source": [
    "x[1:3]"
   ]
  },
  {
   "cell_type": "code",
   "execution_count": null,
   "id": "7616e5ad",
   "metadata": {},
   "outputs": [],
   "source": [
    "x['brand']"
   ]
  },
  {
   "cell_type": "code",
   "execution_count": null,
   "id": "44c353d1",
   "metadata": {},
   "outputs": [],
   "source": [
    "x[['brand', 'mileage']]"
   ]
  },
  {
   "cell_type": "code",
   "execution_count": null,
   "id": "fa85eddb",
   "metadata": {},
   "outputs": [],
   "source": [
    "x[0:3]"
   ]
  },
  {
   "cell_type": "code",
   "execution_count": null,
   "id": "72518d7d",
   "metadata": {},
   "outputs": [],
   "source": [
    "x['engineSize']"
   ]
  },
  {
   "cell_type": "code",
   "execution_count": null,
   "id": "52017dcd",
   "metadata": {},
   "outputs": [],
   "source": [
    "print(f\"Before drop: {list(x.columns)}\")\n",
    "x.drop('carID', axis=1, inplace=True)\n",
    "print(f\"After drop: {list(x.columns)}\")"
   ]
  },
  {
   "cell_type": "code",
   "execution_count": null,
   "id": "864fce61",
   "metadata": {},
   "outputs": [],
   "source": [
    "c1 = x[['brand', 'model']]\n",
    "c2 = x['mileage']"
   ]
  },
  {
   "cell_type": "markdown",
   "id": "d3bc6739",
   "metadata": {},
   "source": [
    "## Concatenating Rows and Columns\n",
    "Rows and columns can be concatenated together to form new data frames.  The code below creates a new dataframe from name and horsepower from the Auto MPG dataset.  This is done by concatenating two columns together."
   ]
  },
  {
   "cell_type": "code",
   "execution_count": null,
   "id": "58b3f495",
   "metadata": {},
   "outputs": [],
   "source": [
    "newx = pd.concat([c1, c2], axis=1)\n",
    "display(newx[0:10])"
   ]
  },
  {
   "cell_type": "markdown",
   "id": "9f7a4342",
   "metadata": {},
   "source": [
    "### Systematic indexing with `loc` and `iloc`\n",
    "\n",
    "When using `[]` like above, you can only select from one axis at once (rows or columns, not both). For more advanced indexing, you have some extra attributes:\n",
    "    \n",
    "* `loc`: selection by label\n",
    "* `iloc`: selection by position"
   ]
  },
  {
   "cell_type": "code",
   "execution_count": null,
   "id": "6bbf3a91",
   "metadata": {},
   "outputs": [],
   "source": [
    "r1= x.loc[0:2]\n",
    "r2 = x.iloc[5:8]\n",
    "ynew= pd.concat([r1, r2], axis=0)"
   ]
  },
  {
   "cell_type": "code",
   "execution_count": null,
   "id": "8018934f",
   "metadata": {},
   "outputs": [],
   "source": [
    "ynew\n"
   ]
  },
  {
   "cell_type": "code",
   "execution_count": null,
   "id": "e2e147ab",
   "metadata": {},
   "outputs": [],
   "source": [
    "x.iloc[0:2,1:3]"
   ]
  },
  {
   "cell_type": "markdown",
   "id": "84fb26a4",
   "metadata": {},
   "source": [
    "# Next lecture \n",
    "\n",
    "## - Neural Network and Deep Learning"
   ]
  }
 ],
 "metadata": {
  "kernelspec": {
   "display_name": "Python 3 (ipykernel)",
   "language": "python",
   "name": "python3"
  },
  "language_info": {
   "codemirror_mode": {
    "name": "ipython",
    "version": 3
   },
   "file_extension": ".py",
   "mimetype": "text/x-python",
   "name": "python",
   "nbconvert_exporter": "python",
   "pygments_lexer": "ipython3",
   "version": "3.10.7"
  }
 },
 "nbformat": 4,
 "nbformat_minor": 5
}
