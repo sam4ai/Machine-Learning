{
 "cells": [
  {
   "cell_type": "markdown",
   "id": "b38d6451",
   "metadata": {},
   "source": [
    "<a href=\"https://githubtocolab.com/github.com/sam4ai/Machine-Learning/blob/master/Lecture%2001.ipynb\" target=\"_parent\"><img src=\"https://colab.research.google.com/assets/colab-badge.svg\" alt=\"Open in Colab\"/></a>"
   ]
  },
  {
   "cell_type": "markdown",
   "id": "a7908f4b",
   "metadata": {},
   "source": [
    "# Introduction to Python programming\n",
    "***"
   ]
  },
  {
   "cell_type": "markdown",
   "id": "d8376178",
   "metadata": {},
   "source": [
    "in this lecture \n",
    "1. why python\n",
    "1. Installing Python\n",
    "1. Integer, Floating Point, and Complex Numbers\n",
    "1. Strings\n",
    "1. Arithmetic operations\n",
    "1. Python boolian and Logical Operators\n",
    "1. Lists and Tuples\n",
    "1. Dictionaries\n",
    "1. Sets\n"
   ]
  },
  {
   "cell_type": "markdown",
   "id": "9febb131",
   "metadata": {},
   "source": [
    "# Why Python\n",
    "\n",
    "- Simple and flexible code structure,\n",
    "- High number of free available Python Packaged and Libraries\n",
    "- Open source and free to use ( until now )  \n",
    "(Long story short, Java was free and was competing with C# as the later was proprietary software, now you can use java but you cannot use it for commercial purposes freely. I don't know the future of Python, sorry, is it gonna stay free or not!)\n",
    "- Python community"
   ]
  },
  {
   "cell_type": "code",
   "execution_count": null,
   "id": "6c4fb519",
   "metadata": {},
   "outputs": [],
   "source": [
    "# this is a comment which starts with # key\n",
    "# the following executes terminal commands (Shell Commands) \n",
    "!python --version"
   ]
  },
  {
   "cell_type": "markdown",
   "id": "090b5b14",
   "metadata": {},
   "source": [
    "## IPython notebooks\n",
    "[Jupyter Notebook](https://en.wikipedia.org/wiki/Project_Jupyter) is a web-based interactive computational environment for creating, executing, and visualizing Jupyter notebooks. IPython notebook is stored in the [JSON](http://en.wikipedia.org/wiki/JSON) file format with the extension `.ipynb`. The most importent thing about jupyter that its content is organized into cells and you can work with it interactively. In addition it can be converted to HTML, PDF etc.\n",
    " \n",
    " \n"
   ]
  },
  {
   "cell_type": "markdown",
   "id": "d4aed872",
   "metadata": {},
   "source": [
    "# Installing Python \n",
    "There are many online python compiler, the most recommended one is [Google Colab](https://colab.research.google.com/) which offers free online browser notebook. however you may install Python locally, the following is according to ease of installation:-\n",
    "\n",
    "1. [Anaconda](https://www.anaconda.com/) ( or [Miniconda](https://docs.conda.io/en/latest/miniconda.html) ) Distribution by Anaconda (formerly Continuum Analytics). Free for everyone.  \n",
    "2. Slightly not recommended: Usually, Python come preinstalled with most Linux distribution. You have to install some packages like tensorflow and others.  \n",
    "3. Highly not recommended: If you are a windows user you can install the Python from [the official home of the Python Programming Language](https://www.python.org/), and then all the required packages for this course manually.\n",
    "\n",
    "\n",
    "\n",
    "\n",
    "\n"
   ]
  },
  {
   "cell_type": "markdown",
   "id": "f7849409",
   "metadata": {},
   "source": [
    "## Python IDEs and Code Editors\n",
    "\n",
    "The following is according to my preference, don't take it for guarantee, you may and i am sure your preference is different.\n",
    "1. PyCharm ( not recommended for beginners)\n",
    "1. Visual Studio Code (if you never use it, then startup, creating projects, addons , ... is little confusing. otherwise it is great)\n",
    "1. Spyder( absolutely charmy and easy to use and comes with Anaconda distribution, so you dont have to worry on how to install it)\n",
    "1. Jupyter Notebook ( you will use it throughout this course, moreover Google Colab is a web browser notebook )\n",
    "1. Python IDLE( not recommended for beginner )\n",
    "1. Visual Studio ( big project and needs a lot of download )\n",
    "1. There are many other IDEs like Eric, ... and others"
   ]
  },
  {
   "cell_type": "markdown",
   "id": "db69bf71",
   "metadata": {},
   "source": [
    "***\n",
    "# Python Variables and Expressions\n",
    "\n",
    "Python like many other programming languages has a common rule to define its variables similar to other languages like C++, however it has its own rules too.  \n",
    "let us review some rules"
   ]
  },
  {
   "cell_type": "markdown",
   "id": "c8039fca",
   "metadata": {},
   "source": [
    "Variable should start with a letter or some special characters like `_`.  \n",
    "Like other languages, Python keywords cannot be used as a variable name. "
   ]
  },
  {
   "cell_type": "code",
   "execution_count": null,
   "id": "ff456b80",
   "metadata": {},
   "outputs": [],
   "source": [
    "a = 10\n",
    "b = 20\n",
    "_d= 30\n",
    "print(a, b, _d )"
   ]
  },
  {
   "cell_type": "markdown",
   "id": "5801288e",
   "metadata": {},
   "source": [
    "Python code is case sensitive"
   ]
  },
  {
   "cell_type": "code",
   "execution_count": null,
   "id": "63e4080a",
   "metadata": {},
   "outputs": [],
   "source": [
    "a = 10\n",
    "print(A) # will produce variable is not defined error"
   ]
  },
  {
   "cell_type": "markdown",
   "id": "eb24889e",
   "metadata": {},
   "source": [
    "***\n",
    "***Let us explore some Python data types***"
   ]
  },
  {
   "cell_type": "markdown",
   "id": "4e1b2574",
   "metadata": {},
   "source": [
    "***\n",
    "## Integer, Floating Point, and Complex Numbers"
   ]
  },
  {
   "cell_type": "markdown",
   "id": "48fe38bf",
   "metadata": {},
   "source": [
    "## Integers\n",
    "### To define an integer, use the following syntax:  \n",
    "*note: The **type()** function is used to get the type of an object.*"
   ]
  },
  {
   "cell_type": "code",
   "execution_count": null,
   "id": "51976dda",
   "metadata": {},
   "outputs": [],
   "source": [
    "i = 10 \n",
    "print(i)\n",
    "print(type(i))"
   ]
  },
  {
   "cell_type": "markdown",
   "id": "0e473651",
   "metadata": {},
   "source": [
    "Other ways of printing "
   ]
  },
  {
   "cell_type": "code",
   "execution_count": null,
   "id": "4908b516",
   "metadata": {},
   "outputs": [],
   "source": [
    "print(f\"i = {i}\")  #  f-strings ( formatted or interpolated string )\n",
    "print('i = {}'.format(i) ) # just another way to print "
   ]
  },
  {
   "cell_type": "markdown",
   "id": "25560b5c",
   "metadata": {},
   "source": [
    "**Convert floating point number to integer ( casting )**"
   ]
  },
  {
   "cell_type": "code",
   "execution_count": null,
   "id": "83a44a8a",
   "metadata": {},
   "outputs": [],
   "source": [
    "k = int(10.5)\n",
    "print(k)\n",
    "print(type(k))"
   ]
  },
  {
   "cell_type": "markdown",
   "id": "6f910e83",
   "metadata": {},
   "source": [
    "***\n",
    "## Floating Point Numbers\n",
    "\n",
    "\n"
   ]
  },
  {
   "cell_type": "markdown",
   "id": "eb6c4a6c",
   "metadata": {},
   "source": [
    "### To define an floating point number, use the following syntax:\n",
    "notice that there is no single precision number in Python by default   \n",
    "float is double precision number in Python"
   ]
  },
  {
   "cell_type": "code",
   "execution_count": null,
   "id": "8beab111",
   "metadata": {},
   "outputs": [],
   "source": [
    "a = 10.0\n",
    "print(a)\n",
    "print(type(a))\n"
   ]
  },
  {
   "cell_type": "markdown",
   "id": "7ebdbc8c",
   "metadata": {},
   "source": [
    "**Casting integer to float**"
   ]
  },
  {
   "cell_type": "code",
   "execution_count": null,
   "id": "68aa92df",
   "metadata": {},
   "outputs": [],
   "source": [
    "i = 10\n",
    "b = float(i)\n",
    "print(b)\n",
    "print(type(b))"
   ]
  },
  {
   "cell_type": "markdown",
   "id": "aaa11ec6",
   "metadata": {},
   "source": [
    "***\n",
    "## Complex numbers\n",
    "### To define a Complex number, use the following syntax:"
   ]
  },
  {
   "cell_type": "code",
   "execution_count": null,
   "id": "67eb2d45",
   "metadata": {},
   "outputs": [],
   "source": [
    "c = 10 + 20j\n",
    "print(c)\n",
    "print(type(c))"
   ]
  },
  {
   "cell_type": "markdown",
   "id": "bb6bfbb8",
   "metadata": {},
   "source": [
    "**Casting to complex number**"
   ]
  },
  {
   "cell_type": "code",
   "execution_count": null,
   "id": "8219230f",
   "metadata": {},
   "outputs": [],
   "source": [
    "a = 10\n",
    "b = 20\n",
    "c = complex(a, b)\n",
    "print(c)\n",
    "print(type(c))"
   ]
  },
  {
   "cell_type": "code",
   "execution_count": null,
   "id": "f3c5a568",
   "metadata": {},
   "outputs": [],
   "source": [
    "c = complex(a)\n",
    "print(c)\n",
    "print(type(c))"
   ]
  },
  {
   "cell_type": "code",
   "execution_count": null,
   "id": "b7b7a439",
   "metadata": {},
   "outputs": [],
   "source": [
    "c = complex(0, a)\n",
    "print(c)\n",
    "print(type(c))"
   ]
  },
  {
   "cell_type": "code",
   "execution_count": null,
   "id": "565acd5f",
   "metadata": {},
   "outputs": [],
   "source": [
    "c = a + 0j\n",
    "print(c)\n",
    "print(type(c))"
   ]
  },
  {
   "cell_type": "markdown",
   "id": "377f2bda",
   "metadata": {},
   "source": [
    "**real or imaginary part extruction**"
   ]
  },
  {
   "cell_type": "code",
   "execution_count": null,
   "id": "57553b1b",
   "metadata": {},
   "outputs": [],
   "source": [
    "c =  2.5 - 3.64j\n",
    "d = c.real\n",
    "print(d)\n",
    "print(type(d))"
   ]
  },
  {
   "cell_type": "code",
   "execution_count": null,
   "id": "1a399836",
   "metadata": {},
   "outputs": [],
   "source": [
    "e =  c.imag\n",
    "print(e)\n",
    "print(type(e))"
   ]
  },
  {
   "cell_type": "markdown",
   "id": "a3ea8496",
   "metadata": {},
   "source": [
    "***\n",
    "# Strings\n",
    "### To define a string, use the following syntax:\n",
    "*you can use single or double quotes* "
   ]
  },
  {
   "cell_type": "code",
   "execution_count": null,
   "id": "03a4553b",
   "metadata": {},
   "outputs": [],
   "source": [
    "a = \"abcdefghijklmnopqrstuvwxyz\"\n",
    "print(a)\n",
    "print(type(a))\n",
    "b = 'efgh'\n",
    "print(b)\n",
    "print(type(b))"
   ]
  },
  {
   "cell_type": "markdown",
   "id": "e3e8de73",
   "metadata": {},
   "source": [
    "String length and indexing operator "
   ]
  },
  {
   "cell_type": "code",
   "execution_count": null,
   "id": "feee6b52",
   "metadata": {},
   "outputs": [],
   "source": [
    "print(len(a))\n",
    "print(a[0], a[3])"
   ]
  },
  {
   "cell_type": "code",
   "execution_count": null,
   "id": "93c6852e",
   "metadata": {},
   "outputs": [],
   "source": [
    "print(a[:6])\n",
    "print(a[6:18])\n",
    "print(a[18:])\n",
    "print(a[:])"
   ]
  },
  {
   "cell_type": "code",
   "execution_count": null,
   "id": "4e329e9f",
   "metadata": {},
   "outputs": [],
   "source": [
    "print(a[-1])\n",
    "print(a[-3])\n",
    "print(a[:-20])\n",
    "print(a[-20:-5])\n",
    "print(a[-5:])"
   ]
  },
  {
   "cell_type": "code",
   "execution_count": null,
   "id": "8320984c",
   "metadata": {},
   "outputs": [],
   "source": [
    "print(a[1:10:2])\n",
    "print(a[:10:2])\n",
    "print(a[::1])\n",
    "print(a[::5])"
   ]
  },
  {
   "cell_type": "markdown",
   "id": "8db52f4c",
   "metadata": {},
   "source": [
    "string concatenation"
   ]
  },
  {
   "cell_type": "code",
   "execution_count": null,
   "id": "f7e9e882",
   "metadata": {},
   "outputs": [],
   "source": [
    "a, b, c = 'abc', 'def', 'ghi'\n",
    "print(a, b, c)\n",
    "print(a + b + c)\n"
   ]
  },
  {
   "cell_type": "markdown",
   "id": "57e2ba54",
   "metadata": {},
   "source": [
    "**Casting to string**"
   ]
  },
  {
   "cell_type": "code",
   "execution_count": null,
   "id": "a97d2187",
   "metadata": {},
   "outputs": [],
   "source": [
    "a = str(123)\n",
    "print(a)\n",
    "print(type(a))"
   ]
  },
  {
   "cell_type": "code",
   "execution_count": null,
   "id": "9d80edfb",
   "metadata": {},
   "outputs": [],
   "source": [
    "a =  str(12.4 - 6j)\n",
    "print(a)\n",
    "print(type(a))"
   ]
  },
  {
   "cell_type": "markdown",
   "id": "2c8b8264",
   "metadata": {},
   "source": [
    "***\n",
    "***\n",
    "# Arithmetic operations \n",
    "\n",
    "Arithmetic operators `+`, `-`, `*`, `/`, `// integer division`, `** power` , `% modulo` .  \n",
    "you **cannot** use the `++` or the `--` operators in Python, however you can use `+=` , `-=` , `&=` , ..."
   ]
  },
  {
   "cell_type": "code",
   "execution_count": null,
   "id": "22e07a40",
   "metadata": {},
   "outputs": [],
   "source": [
    "a = 4 + 5\n",
    "b = a - 6.5\n",
    "c = 10 // 3\n",
    "d = 10 % 3\n",
    "e = 2 ** 3.2\n",
    "print(a, b, c, d, e )"
   ]
  },
  {
   "cell_type": "code",
   "execution_count": null,
   "id": "ac2e1507",
   "metadata": {},
   "outputs": [],
   "source": [
    "a = 0\n",
    "a += 2\n",
    "a **= 3\n",
    "print(a)"
   ]
  },
  {
   "cell_type": "markdown",
   "id": "e6b8e421",
   "metadata": {},
   "source": [
    "Assigning multiple variables at the same instruction"
   ]
  },
  {
   "cell_type": "code",
   "execution_count": null,
   "id": "39f136be",
   "metadata": {},
   "outputs": [],
   "source": [
    "a, b = 1, 2\n",
    "print(a, b)"
   ]
  },
  {
   "cell_type": "markdown",
   "id": "cf764d32",
   "metadata": {},
   "source": [
    "***\n",
    "# Python boolian and Logical Operators  \n",
    "Logical operators `and` , `or` , `not`  \n",
    "Bitwise operators `&` , `|` , `^ exclusive or` , `~ not operator` , `<<` , `>>`  \n",
    "Comparison Operators `==` , `!=` , `>` , `<` , `>=` , `<=`"
   ]
  },
  {
   "cell_type": "markdown",
   "id": "37d2607c",
   "metadata": {},
   "source": [
    "***\n",
    "## Boolians \n",
    "### To define a boolian, use the following syntax:"
   ]
  },
  {
   "cell_type": "code",
   "execution_count": null,
   "id": "e7d14303",
   "metadata": {},
   "outputs": [],
   "source": [
    "a = True\n",
    "b = False\n",
    "c = bool(0)\n",
    "d = bool(7)\n",
    "e = bool(-3)\n",
    "print('the variables a b c d e equals to ', a, b, c, d, e)"
   ]
  },
  {
   "cell_type": "code",
   "execution_count": null,
   "id": "09c70086",
   "metadata": {},
   "outputs": [],
   "source": [
    "c = a or b\n",
    "print(c)\n",
    "print(type(c))"
   ]
  },
  {
   "cell_type": "code",
   "execution_count": null,
   "id": "d77218bc",
   "metadata": {},
   "outputs": [],
   "source": [
    "c = a | b\n",
    "print(c)\n",
    "c = True or False\n",
    "print(c)\n",
    "print(a > b)"
   ]
  },
  {
   "cell_type": "markdown",
   "id": "cdc3bbd8",
   "metadata": {},
   "source": [
    "comparing strings"
   ]
  },
  {
   "cell_type": "code",
   "execution_count": null,
   "id": "f7274505",
   "metadata": {},
   "outputs": [],
   "source": [
    "a = 'abc'\n",
    "b = 'abc'\n",
    "print(\"a equal to b :\", a==b)\n",
    "print(\"a greater than b :\", a>b)\n",
    "b = 'abd'\n",
    "print('a =', a, '     b =', b)\n",
    "print(\"a equal to b :\", a==b)\n",
    "print(\"a smaller than b :\", a<b)"
   ]
  },
  {
   "cell_type": "markdown",
   "id": "0c8ca434",
   "metadata": {},
   "source": [
    "***\n",
    "# Lists and Tuples\n",
    "lists are used to store ordered collection of different data types (items), the same is true for tuples\n",
    "lists are enclosed with square brackets `[ ]`, while tuples are enclosed with round brackets ( parentheses ) ` ( ) `"
   ]
  },
  {
   "cell_type": "code",
   "execution_count": null,
   "id": "7d733774",
   "metadata": {},
   "outputs": [],
   "source": [
    "a = [1, 2, 3, 4, 5, 6]\n",
    "print(type(a))\n",
    "print(a[1])\n",
    "print(a[1:3])\n",
    "print(a[::2])"
   ]
  },
  {
   "cell_type": "markdown",
   "id": "41d97035",
   "metadata": {},
   "source": [
    "let us repeat above for tuples"
   ]
  },
  {
   "cell_type": "code",
   "execution_count": null,
   "id": "15c76c61",
   "metadata": {},
   "outputs": [],
   "source": [
    "t = (1, 2, 3, 4, 5, 6)\n",
    "print(type(t))\n",
    "print(t[1])\n",
    "print(t[1:3])\n",
    "print(t[::2])"
   ]
  },
  {
   "cell_type": "markdown",
   "id": "60c11a6b",
   "metadata": {},
   "source": [
    "list is mutable ( you can change it ) , while tuple is immutable"
   ]
  },
  {
   "cell_type": "code",
   "execution_count": null,
   "id": "2ebba6f9",
   "metadata": {},
   "outputs": [],
   "source": [
    "a[2] = -5\n",
    "\n",
    "t[2] = -5 # will produce an error "
   ]
  },
  {
   "cell_type": "markdown",
   "id": "98252954",
   "metadata": {},
   "source": [
    "Appent to a list  \n",
    "remove and delete items"
   ]
  },
  {
   "cell_type": "code",
   "execution_count": null,
   "id": "705cc5c3",
   "metadata": {},
   "outputs": [],
   "source": [
    "a.append(7)\n",
    "print(a)\n",
    "a.insert(0,-1)\n",
    "print(a)\n",
    "a.remove(3)\n",
    "print(a)\n",
    "del a[3]\n",
    "print(a)"
   ]
  },
  {
   "cell_type": "markdown",
   "id": "09ba14f4",
   "metadata": {},
   "source": [
    "A list can hold different types"
   ]
  },
  {
   "cell_type": "code",
   "execution_count": null,
   "id": "e5cdaed9",
   "metadata": {},
   "outputs": [],
   "source": [
    "a[0] = 5 -10j\n",
    "a[1] = True\n",
    "print(a)"
   ]
  },
  {
   "cell_type": "markdown",
   "id": "63ea0385",
   "metadata": {},
   "source": [
    "Range interator"
   ]
  },
  {
   "cell_type": "code",
   "execution_count": null,
   "id": "0476a7a9",
   "metadata": {},
   "outputs": [],
   "source": [
    "start = 5\n",
    "stop = 50\n",
    "step = 5\n",
    "b=range(start, stop, step) # range generates an interator\n",
    "print(b)\n",
    "b = list(b) # converted to a list by casting 'list(...)'\n",
    "print( b )"
   ]
  },
  {
   "cell_type": "markdown",
   "id": "f98562d0",
   "metadata": {},
   "source": [
    "converting string to list (casting)"
   ]
  },
  {
   "cell_type": "code",
   "execution_count": null,
   "id": "9c68330d",
   "metadata": {},
   "outputs": [],
   "source": [
    "a = \"Machine Learning\"\n",
    "b =  list(a)\n",
    "print(a)\n",
    "print(b)"
   ]
  },
  {
   "cell_type": "markdown",
   "id": "531ee35d",
   "metadata": {},
   "source": [
    "sorting a list"
   ]
  },
  {
   "cell_type": "code",
   "execution_count": null,
   "id": "43ae6d5d",
   "metadata": {},
   "outputs": [],
   "source": [
    "b.sort()\n",
    "print(b)\n",
    "b.sort(reverse=True)\n",
    "print(b)"
   ]
  },
  {
   "cell_type": "markdown",
   "id": "1abf8085",
   "metadata": {},
   "source": [
    "***\n",
    "# Dictionaries\n",
    "Each element is a key-value pair. The syntax for dictionaries is `{key1 : value1, ...}`:"
   ]
  },
  {
   "cell_type": "code",
   "execution_count": null,
   "id": "33881c68",
   "metadata": {},
   "outputs": [],
   "source": [
    "d = {\"Janne\": 23, \"Richard\": 33, \"alice\": 22} \n",
    "print(d)\n",
    "d[\"alice\"] = 27\n",
    "print(d)"
   ]
  },
  {
   "cell_type": "markdown",
   "id": "eb75c694",
   "metadata": {},
   "source": [
    "***\n",
    "# Sets"
   ]
  },
  {
   "cell_type": "code",
   "execution_count": null,
   "id": "c691e3c4",
   "metadata": {},
   "outputs": [],
   "source": [
    "s = set((\"apple\", \"cherry\", \"banana\", \"apple\")) \n",
    "print(s)"
   ]
  },
  {
   "cell_type": "markdown",
   "id": "5f23618b",
   "metadata": {},
   "source": [
    "***\n",
    "## Control structures"
   ]
  },
  {
   "cell_type": "markdown",
   "id": "2478df7e",
   "metadata": {},
   "source": [
    "### Conditional statements: if, elif, else"
   ]
  },
  {
   "cell_type": "code",
   "execution_count": null,
   "id": "de3b4715",
   "metadata": {},
   "outputs": [],
   "source": [
    "a = \"a\" # try change this \n",
    "if a == \"a\":\n",
    "    print('a is small letter') \n",
    "elif a == \"A\":\n",
    "    print('A is capital letter')\n",
    "else:\n",
    "    print('a is something else')"
   ]
  },
  {
   "cell_type": "markdown",
   "id": "649d8004",
   "metadata": {},
   "source": [
    "### While loops loop until some condition is met:"
   ]
  },
  {
   "cell_type": "code",
   "execution_count": null,
   "id": "44bd5b55",
   "metadata": {},
   "outputs": [],
   "source": [
    "i = 0\n",
    "while i < 10:\n",
    "    print('i = ', i)\n",
    "    i += 1"
   ]
  },
  {
   "cell_type": "markdown",
   "id": "916f7b86",
   "metadata": {},
   "source": [
    "### For-statement  allows us to iterate through an iterable object."
   ]
  },
  {
   "cell_type": "markdown",
   "id": "cc2ee2ae",
   "metadata": {},
   "source": [
    "For loops loop over some collection of values:\n"
   ]
  },
  {
   "cell_type": "code",
   "execution_count": null,
   "id": "8711dddb",
   "metadata": {},
   "outputs": [],
   "source": [
    "a = [1, 2, 3, 4, 5, 6, 7, 8, 9, 10]\n",
    "for i in a:\n",
    "    print(i)"
   ]
  },
  {
   "cell_type": "markdown",
   "id": "569461e7",
   "metadata": {},
   "source": [
    "Often you want to loop over a sequence of integers, in that case the range() function is useful:"
   ]
  },
  {
   "cell_type": "code",
   "execution_count": null,
   "id": "c4fd685f",
   "metadata": {},
   "outputs": [],
   "source": [
    "for i in range(10):\n",
    "    print(1)"
   ]
  },
  {
   "cell_type": "markdown",
   "id": "08eca2d2",
   "metadata": {},
   "source": [
    "to iterate over a collection, and getting index number with each element, we use enumerate() function:\n"
   ]
  },
  {
   "cell_type": "code",
   "execution_count": null,
   "id": "747cd2fa",
   "metadata": {},
   "outputs": [],
   "source": [
    "a = [1, True,  'Machine', 'Learning']\n",
    "for i, x in enumerate(a):\n",
    "    print(i, x)\n"
   ]
  },
  {
   "cell_type": "markdown",
   "id": "4e3a0476",
   "metadata": {},
   "source": [
    "***\n",
    "## Functions "
   ]
  },
  {
   "cell_type": "markdown",
   "id": "7deb9f3a",
   "metadata": {},
   "source": [
    "Functions can be defined using the `def` keyword, followed by a function name, a signature within parentheses `()`  \n",
    "we can give default values to the arguments "
   ]
  },
  {
   "cell_type": "code",
   "execution_count": null,
   "id": "d7e6ccf6",
   "metadata": {},
   "outputs": [],
   "source": [
    "def say_hello(name, n = 1):\n",
    "    \"\"\"Say hello to the person given by the argument\"\"\"\n",
    "    i=0\n",
    "    while i < n:\n",
    "        print('Hello ', name)\n",
    "        i += 1\n",
    "    return str(n) + \" times \", n * 2\n",
    "\n",
    "say_hello(\"Jane\")\n",
    "\n",
    "s, k =say_hello(\"all\", 3)\n",
    "print (s, k)"
   ]
  },
  {
   "cell_type": "markdown",
   "id": "1399e02b",
   "metadata": {},
   "source": [
    "***\n",
    "## Classes\n",
    "Classes are the key features of object-oriented programming.  \n",
    "Classes are defined by the `Class` definitions keyword:  \n",
    "Usually a class may contain a number method definitions (functions).\n",
    "\n",
    "* Each class method should have an argument `self` as it first argument. This object is a self-reference.\n",
    "\n",
    "* Some class method names have special meaning, for example  \n",
    " `__init__`: The name of the method that is invoked when the object is first created.\n",
    "\n"
   ]
  },
  {
   "cell_type": "code",
   "execution_count": null,
   "id": "1e3d3f55",
   "metadata": {},
   "outputs": [],
   "source": [
    "class Hello:\n",
    "    def __init__(self, name):\n",
    "        self._name = name\n",
    "        self._count = 1\n",
    "    def say_hello(self):\n",
    "        for i in range(self._count):\n",
    "            print('Hello', self._name)\n",
    "    def set_name(self, name):\n",
    "        self._name = name # we could use property and setter in future\n",
    "    def set_count(self, n):\n",
    "        self._count = n # we could use property and setter in future\n",
    "\n",
    "h = Hello(\"to all\")\n",
    "h.say_hello()"
   ]
  },
  {
   "cell_type": "markdown",
   "id": "bb99bfaa",
   "metadata": {},
   "source": [
    "set the number of count"
   ]
  },
  {
   "cell_type": "code",
   "execution_count": null,
   "id": "7b00634b",
   "metadata": {},
   "outputs": [],
   "source": [
    "h.set_name( \"ali \")\n",
    "h.set_count(5)\n",
    "h.say_hello()"
   ]
  },
  {
   "cell_type": "markdown",
   "id": "2df0c3c8",
   "metadata": {},
   "source": [
    "what if the argument was integer"
   ]
  },
  {
   "cell_type": "code",
   "execution_count": null,
   "id": "bc109f65",
   "metadata": {},
   "outputs": [],
   "source": [
    "h.set_name( 30 )\n",
    "h.say_hello()"
   ]
  }
 ],
 "metadata": {
  "kernelspec": {
   "display_name": "Python 3 (ipykernel)",
   "language": "python",
   "name": "python3"
  },
  "language_info": {
   "codemirror_mode": {
    "name": "ipython",
    "version": 3
   },
   "file_extension": ".py",
   "mimetype": "text/x-python",
   "name": "python",
   "nbconvert_exporter": "python",
   "pygments_lexer": "ipython3",
   "version": "3.10.7"
  }
 },
 "nbformat": 4,
 "nbformat_minor": 5
}
